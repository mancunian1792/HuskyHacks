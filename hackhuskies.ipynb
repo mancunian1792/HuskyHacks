{
 "cells": [
  {
   "cell_type": "code",
   "execution_count": 26,
   "metadata": {},
   "outputs": [],
   "source": [
    "import io\n",
    "import os\n",
    "import json\n",
    "import six\n",
    "from google.cloud import vision\n",
    "from google.cloud.vision import types\n",
    "from google.oauth2 import service_account\n",
    "from dateutil.parser import parse\n",
    "from google.cloud import translate\n",
    "from natty import DateParser\n",
    "import datetime\n",
    "import zxing\n",
    "import datefinder\n",
    "from watson_developer_cloud import NaturalLanguageUnderstandingV1\n",
    "from watson_developer_cloud.natural_language_understanding_v1 \\\n",
    "    import Features, EntitiesOptions, KeywordsOptions"
   ]
  },
  {
   "cell_type": "code",
   "execution_count": 2,
   "metadata": {},
   "outputs": [
    {
     "name": "stdout",
     "output_type": "stream",
     "text": [
      "0109-03-23 00:00:00\n"
     ]
    }
   ],
   "source": [
    "try:\n",
    "    matches = datefinder.find_dates(\"Hastings Hall Room 109\")\n",
    "    third = next(matches)\n",
    "except StopIteration:\n",
    "    third = None\n",
    "print(third)"
   ]
  },
  {
   "cell_type": "code",
   "execution_count": 3,
   "metadata": {},
   "outputs": [],
   "source": [
    "for match in matches:\n",
    "    print(match.strftime('%Y-%m-%d'))"
   ]
  },
  {
   "cell_type": "code",
   "execution_count": 4,
   "metadata": {},
   "outputs": [
    {
     "ename": "NameError",
     "evalue": "name 'qrcode' is not defined",
     "output_type": "error",
     "traceback": [
      "\u001b[0;31m---------------------------------------------------------------------------\u001b[0m",
      "\u001b[0;31mNameError\u001b[0m                                 Traceback (most recent call last)",
      "\u001b[0;32m<ipython-input-4-ebe44b9af107>\u001b[0m in \u001b[0;36m<module>\u001b[0;34m\u001b[0m\n\u001b[0;32m----> 1\u001b[0;31m \u001b[0mqrcode\u001b[0m\u001b[0;34m(\u001b[0m\u001b[0;34m\"test5.jpg\"\u001b[0m\u001b[0;34m)\u001b[0m\u001b[0;34m\u001b[0m\u001b[0;34m\u001b[0m\u001b[0m\n\u001b[0m",
      "\u001b[0;31mNameError\u001b[0m: name 'qrcode' is not defined"
     ]
    }
   ],
   "source": [
    "qrcode(\"test5.jpg\")"
   ]
  },
  {
   "cell_type": "code",
   "execution_count": 90,
   "metadata": {},
   "outputs": [],
   "source": [
    "def detect_text(path):\n",
    "    credentials=service_account.Credentials.from_service_account_file('/home/ubuntu/key.json')\n",
    "    client = vision.ImageAnnotatorClient(credentials=credentials)\n",
    "    date=\"\"\n",
    "    with io.open(path, 'rb') as image_file:\n",
    "        content = image_file.read()\n",
    "\n",
    "    image = vision.types.Image(content=content)\n",
    "\n",
    "    response = client.text_detection(image=image)\n",
    "    texts = response.text_annotations\n",
    "    a=texts[0].description.split(\"\\n\")\n",
    "    if texts[0].locale is \"en\":\n",
    "        name=a[0]+\" \"+a[1]\n",
    "        des=getdescription(a)\n",
    "    else:\n",
    "        des=\"\"\n",
    "        v=list(language_converter(a[0]).values())\n",
    "        k=''.join(v)\n",
    "        o=list(language_converter(a[1]).values())\n",
    "        p=''.join(o)\n",
    "        name=k+\" \"+p\n",
    "    place=None\n",
    "    x=None\n",
    "    count=0\n",
    "    qr_exist,qr_link=qrcode(path)\n",
    "    #print(des)\n",
    "    for i in a:\n",
    "        count=count+1\n",
    "        \n",
    "        if texts[0].locale is not \"en\":\n",
    "            i=list(language_converter(i).values())\n",
    "            i=i[0]\n",
    "        \n",
    "        if count >=2:\n",
    "            des=des+\" \"+i\n",
    "        c=remove_delimiters(i)\n",
    "        #print(c)\n",
    "        #print(x,y)\n",
    "        if x is None:\n",
    "            #print(\"yo\")\n",
    "            x=is_date(c)\n",
    "            #date=x.strftime('%Y-%m-%d')\n",
    "        if place is None:\n",
    "            place=location(i)\n",
    "    words=get_keywords(des)\n",
    "    js =  { \"name\":name, \"description\":des, \"event_date\":x.strftime('%Y-%m-%d'),\"location\":place,\"is_qr\": qr_exist,\"qr_url\":qr_link,\"category\":words}    \n",
    "    return js\n",
    "\n",
    "def getdescription(n):\n",
    "    g=n[2:]\n",
    "    return ' '.join(g)\n",
    "    \n",
    "def remove_delimiters(r):\n",
    "    k=[\",\"]\n",
    "    for i in k:\n",
    "        r=r.replace(i,\" \")\n",
    "    return r\n",
    "\n",
    "def location(t):\n",
    "    t=t.lower()\n",
    "    loc=[\"10 Coventry Street\",\"142 Hemenway St\",\"144 Hemenway St\",\"146 Hemenway St\",\"BK\",\"148 Hemenway St\",\"177 Huntington Ave\",\"271 Huntington\",\"319 Huntington\",\"335 Huntington Ave\",\"337 Huntington Ave\",\"407 Huntington Ave\",\"Asian American Center\",\"Badger-Rosen SquashBusters Center\",\"Barletta Natatorium\",\"Behrakis Health Sciences Center\",\"Blackman Auditorium\",\"Burlington Campus\",\"Burstein Hall\",\"Cabot Physical Education Center\",\"Cahners Hall\",\"Cargill Hall\",\"Catholic Center\",\"Charlotte Campus\",\"Churchill Hall\",\"Columbus Place and Alumni Center\",\"Curry Student Center\",\"Dana Research Center\",\"Davenport Commons A\",\"Davenport Commons B\",\"Dockser Hall\",\"Dodge Hall\",\"East Village\",\"Ell Hall\",\"Fenway Center\",\"Forsyth Building\",\"Hastings Hall\",\"Hayden Hall\",\"Kariotis Hall\",\"Kennedy Hall\",\"Knowles Center\",\"Kerr Hall\",\"ISEC\",\"ISEC 142\",\"Marino Recreation Center\",\"Light Hall\",\"Marino Recreation Center\",\"Matthews Arena\",\"Meserve Hall\",\"Nightingale Hall\",\"Richards Hall\",\"Robinson Hall\",\"Rubenstein Hall\",\"ROTC Office\",\"Ryder Hall\",\"Seattle Campus\",\"Shillman Hall\",\"Shillman\",\"Hastings\",\"Smith Hall\",\"Snell Engineering Center\",\"West Village G\",\"West Village H\"]\n",
    "    for i in loc:\n",
    "        i=i.lower()\n",
    "        if i in t:\n",
    "            return i\n",
    "def qrcode(path):\n",
    "    reader = zxing.BarCodeReader()\n",
    "    barcode = reader.decode(path)\n",
    "    if barcode is None:\n",
    "        boo=False\n",
    "        link=\"Does not exist\"\n",
    "    else:\n",
    "        boo=True\n",
    "        link=barcode.raw\n",
    "    return boo,link\n",
    "\n",
    "def is_date(string):\n",
    "    #date=None\n",
    "    try:\n",
    "        matches = datefinder.find_dates(string)\n",
    "        third = next(matches)\n",
    "        #print(\"I am here\")\n",
    "    except StopIteration:\n",
    "        third = None\n",
    "    #print(date)\n",
    "    return third\n",
    "\n",
    "def language_converter(i):\n",
    "# Instantiates a client\n",
    "    credentials=service_account.Credentials.from_service_account_file('/home/ubuntu/key.json')\n",
    "    translate_client = translate.Client(credentials=credentials)\n",
    "    # The text to translate\n",
    "    text = i\n",
    "    # The target language\n",
    "    target = 'en'\n",
    "\n",
    "    # Translates some text into Russian\n",
    "    translation = translate_client.translate(text,target_language=target)\n",
    "    return translation\n",
    "\n",
    "def get_keywords(i):\n",
    "    natural_language_understanding = NaturalLanguageUnderstandingV1(\n",
    "        version='2018-11-16',\n",
    "        iam_apikey=\"xNNHsjSVkGoSPSTZLfpmUOs62WUdzRj3JaYAxzkO9jEa\",\n",
    "        url='https://gateway.watsonplatform.net/natural-language-understanding/api'\n",
    "    )\n",
    "    response = natural_language_understanding.analyze(\n",
    "        text=i,\n",
    "        features=Features(\n",
    "            entities=EntitiesOptions(emotion=True, sentiment=True, limit=2),keywords=KeywordsOptions(emotion=True, sentiment=True,limit=2))).get_result()\n",
    "    #print(response.get('keywords'))\n",
    "    #a=json.loads(response, indent=2)\n",
    "    #print(type(response))\n",
    "    cat = []\n",
    "    for item in response.get('keywords'):\n",
    "        if(item != None):\n",
    "            for txt in item.get('text').split(' '):\n",
    "                cat.append(txt)\n",
    "    return \",\".join(cat)"
   ]
  },
  {
   "cell_type": "code",
   "execution_count": 91,
   "metadata": {},
   "outputs": [
    {
     "data": {
      "text/plain": [
       "{'name': 'MONOR AMONG THIEKbnMONOR AMONG THIEK ESCAPE ROOM90enESCAPE ROOM90',\n",
       " 'description': ' ESCAPE ROOM90 sign u p now bit.ly/2 ** FREE *FREE * Night At The Museunn April 6th, 2019 Hastings Hall Room 109 1:00-8:00prn ',\n",
       " 'event_date': '2019-04-06',\n",
       " 'location': 'hastings hall',\n",
       " 'is_qr': True,\n",
       " 'qr_url': 'https://docs.google.com/forms/d/e/1FAIpQLSf1VBfxOP9dDl4ujPeYYLGV3MDeyDS7vILGNDb9WawLeCqpTQ/viewform?usp=sf_link',\n",
       " 'category': 'ESCAPE,ROOM90,sign,u,p,Museunn,April,6th'}"
      ]
     },
     "execution_count": 91,
     "metadata": {},
     "output_type": "execute_result"
    }
   ],
   "source": [
    "detect_text('qr.jpg')"
   ]
  },
  {
   "cell_type": "code",
   "execution_count": 88,
   "metadata": {},
   "outputs": [],
   "source": [
    "def get_keywords(i):\n",
    "    natural_language_understanding = NaturalLanguageUnderstandingV1(\n",
    "        version='2018-11-16',\n",
    "        iam_apikey=\"xNNHsjSVkGoSPSTZLfpmUOs62WUdzRj3JaYAxzkO9jEa\",\n",
    "        url='https://gateway.watsonplatform.net/natural-language-understanding/api'\n",
    "    )\n",
    "    response = natural_language_understanding.analyze(\n",
    "        text=i,\n",
    "        features=Features(\n",
    "            entities=EntitiesOptions(emotion=True, sentiment=True, limit=2),keywords=KeywordsOptions(emotion=True, sentiment=True,limit=2))).get_result()\n",
    "    #print(response.get('keywords'))\n",
    "    #a=json.loads(response, indent=2)\n",
    "    #print(type(response))\n",
    "    cat = []\n",
    "    for item in response.get('keywords'):\n",
    "        if(item != None):\n",
    "            for txt in item.get('text').split(' '):\n",
    "                cat.append(txt)\n",
    "    return \",\".join(cat)\n",
    "        \n",
    "    #print(a)"
   ]
  },
  {
   "cell_type": "code",
   "execution_count": 64,
   "metadata": {},
   "outputs": [
    {
     "ename": "NameError",
     "evalue": "name 'a' is not defined",
     "output_type": "error",
     "traceback": [
      "\u001b[0;31m---------------------------------------------------------------------------\u001b[0m",
      "\u001b[0;31mNameError\u001b[0m                                 Traceback (most recent call last)",
      "\u001b[0;32m<ipython-input-64-dbc76c5ed6ce>\u001b[0m in \u001b[0;36m<module>\u001b[0;34m\u001b[0m\n\u001b[0;32m----> 1\u001b[0;31m \u001b[0mprint\u001b[0m\u001b[0;34m(\u001b[0m\u001b[0mtype\u001b[0m\u001b[0;34m(\u001b[0m\u001b[0ma\u001b[0m\u001b[0;34m)\u001b[0m\u001b[0;34m)\u001b[0m\u001b[0;34m\u001b[0m\u001b[0;34m\u001b[0m\u001b[0m\n\u001b[0m",
      "\u001b[0;31mNameError\u001b[0m: name 'a' is not defined"
     ]
    }
   ],
   "source": [
    "print(type(a))"
   ]
  },
  {
   "cell_type": "code",
   "execution_count": 33,
   "metadata": {},
   "outputs": [
    {
     "data": {
      "text/plain": [
       "(True, [datetime.datetime(2018, 11, 3, 10, 55, 18, tzinfo=tzutc())])"
      ]
     },
     "execution_count": 33,
     "metadata": {},
     "output_type": "execute_result"
    }
   ],
   "source": [
    "is_date(\"November 3, 2018\")"
   ]
  },
  {
   "cell_type": "code",
   "execution_count": 7,
   "metadata": {},
   "outputs": [],
   "source": [
    "def language_converter(i):\n",
    "# Instantiates a client\n",
    "    credentials=service_account.Credentials.from_service_account_file('/home/ubuntu/key.json')\n",
    "    translate_client = translate.Client(credentials=credentials)\n",
    "    # The text to translate\n",
    "    text = i\n",
    "    # The target language\n",
    "    target = 'en'\n",
    "\n",
    "    # Translates some text into Russian\n",
    "    translation = translate_client.translate(text,target_language=target)\n",
    "    return translation"
   ]
  },
  {
   "cell_type": "code",
   "execution_count": 221,
   "metadata": {},
   "outputs": [
    {
     "data": {
      "text/plain": [
       "{'translatedText': 'Partner of the Boston Angel Club (Angel Investment Fund), Founder &amp; President of the North American Initiative (Innovative Entrepreneurship and Career Development)',\n",
       " 'detectedSourceLanguage': 'zh-CN',\n",
       " 'input': '波士顿天使俱乐部”(天使投资基金)合伙人,北美创职会(创新创业与职业发展)创立人&会长'}"
      ]
     },
     "execution_count": 221,
     "metadata": {},
     "output_type": "execute_result"
    }
   ],
   "source": [
    "language_converter(\"波士顿天使俱乐部”(天使投资基金)合伙人,北美创职会(创新创业与职业发展)创立人&会长\")"
   ]
  }
 ],
 "metadata": {
  "kernelspec": {
   "display_name": "Python 3",
   "language": "python",
   "name": "python3"
  },
  "language_info": {
   "codemirror_mode": {
    "name": "ipython",
    "version": 3
   },
   "file_extension": ".py",
   "mimetype": "text/x-python",
   "name": "python",
   "nbconvert_exporter": "python",
   "pygments_lexer": "ipython3",
   "version": "3.6.7"
  }
 },
 "nbformat": 4,
 "nbformat_minor": 2
}
